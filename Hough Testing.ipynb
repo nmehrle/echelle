{
 "cells": [
  {
   "cell_type": "code",
   "execution_count": 1,
   "metadata": {},
   "outputs": [],
   "source": [
    "import numpy as np\n",
    "import scipy.ndimage as ndimage\n",
    "import scipy.signal  as signal\n",
    "from inspect import signature\n",
    "\n",
    "%matplotlib notebook\n",
    "import seaborn\n",
    "import matplotlib.pyplot as plt\n",
    "import matplotlib\n",
    "import numpy as np\n",
    "import scipy.ndimage as ndimage\n",
    "matplotlib.rcParams['figure.figsize'] = [5, 5]\n"
   ]
  },
  {
   "cell_type": "code",
   "execution_count": 6,
   "metadata": {},
   "outputs": [],
   "source": [
    "%run flatAngles.py\n",
    "%run hough.py\n",
    "%run echelle.py\n",
    "\n",
    "import time\n",
    "d = getFlat()\n",
    "peaks  = extractOrders(d);\n",
    "\n",
    "st = time.time()\n",
    "# ####\n",
    "NRows, NCols = np.shape(d)\n",
    "\n",
    "kMax = NRows\n",
    "kMin = -10\n",
    "ks = np.arange(kMin,kMax+1,1)\n",
    "\n",
    "#possible a values:\n",
    "#REQUIRES WORK\n",
    "aMax = 2e-4\n",
    "aMin = -2e-5\n",
    "aLen = 40\n",
    "\n",
    "bbMax = 0.2\n",
    "bbMin = 0.0\n",
    "bbLen = 50\n",
    "\n",
    "aas = np.linspace(aMin,aMax,aLen)\n",
    "bbs = np.linspace(bbMin, bbMax, bbLen)\n",
    "\n",
    "\n",
    "bs = aas\n",
    "cs = bbs\n",
    "ds = ks\n",
    "# Atest = threePHTFAST(peaks, [bs,cs,ds])\n"
   ]
  },
  {
   "cell_type": "code",
   "execution_count": 64,
   "metadata": {},
   "outputs": [],
   "source": []
  }
 ],
 "metadata": {
  "kernelspec": {
   "display_name": "Python 3",
   "language": "python",
   "name": "python3"
  },
  "language_info": {
   "codemirror_mode": {
    "name": "ipython",
    "version": 3
   },
   "file_extension": ".py",
   "mimetype": "text/x-python",
   "name": "python",
   "nbconvert_exporter": "python",
   "pygments_lexer": "ipython3",
   "version": "3.6.5"
  }
 },
 "nbformat": 4,
 "nbformat_minor": 2
}
